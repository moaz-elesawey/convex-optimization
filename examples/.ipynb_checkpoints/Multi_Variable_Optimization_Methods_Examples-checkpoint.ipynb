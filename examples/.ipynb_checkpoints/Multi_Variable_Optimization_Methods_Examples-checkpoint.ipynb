{
 "cells": [
  {
   "cell_type": "code",
   "execution_count": null,
   "id": "3e05cfc3",
   "metadata": {},
   "outputs": [],
   "source": [
    "!pip install -U mloptm"
   ]
  },
  {
   "cell_type": "code",
   "execution_count": null,
   "id": "fead1e36",
   "metadata": {},
   "outputs": [],
   "source": [
    "import numpy as np\n",
    "np.random.seed(42)\n",
    "\n",
    "from mloptm.grads import SteepestDescent, NewtonND\n",
    "\n",
    "%matplotlib qt"
   ]
  },
  {
   "cell_type": "code",
   "execution_count": null,
   "id": "f7b00ab8",
   "metadata": {},
   "outputs": [],
   "source": [
    "import warnings\n",
    "warnings.filterwarnings(action=\"ignore\")"
   ]
  },
  {
   "cell_type": "markdown",
   "id": "9ffa2baf",
   "metadata": {},
   "source": [
    "# Define Some Functions To Use\n",
    "\n",
    "$$f_1(x, y) = x^2 + y^2$$\n",
    "\n",
    "$$f_2(x, y) = \\cos(x^2 - 3y) + \\sin(x^2 + y^2)$$\n",
    "\n",
    "$$f_3(x_1, \\dots, x_{30}) = \\sum_{i=1}^{30} N_i \\, x_{i}^{C} = 2 x_1^4 + 5 x_2^2 + \\dots + 9 x_{30}^4 $$"
   ]
  },
  {
   "cell_type": "code",
   "execution_count": null,
   "id": "d55c9c99",
   "metadata": {},
   "outputs": [],
   "source": [
    "f1 = \"x^2+y^2\"\n",
    "f2 = \"cos(x^2 - 3*y) + sin(x^2 + y^2)\"\n",
    "\n",
    "\n",
    "## Foreget about this, only used to create the third function\n",
    "N_VARS = 30\n",
    "f3_vars = [f\"x{i}\" for i in range(1, N_VARS+1)]\n",
    "f3 = \"+\".join( [ f\"{np.random.randint(1, 10)}*x{i}^{np.random.choice([2, 4])}\" for i in range(1, N_VARS+1) ] )\n",
    "f3"
   ]
  },
  {
   "cell_type": "markdown",
   "id": "940d5b10",
   "metadata": {},
   "source": [
    "# Using Steepest Descent Method"
   ]
  },
  {
   "cell_type": "code",
   "execution_count": null,
   "id": "e2adddfb",
   "metadata": {},
   "outputs": [],
   "source": [
    "s1 = SteepestDescent(f1, (\"x\", \"y\"))\n",
    "minima = s1.Minimize(x0=(10, 10), eps=1e-5, verbose=True)\n",
    "display(minima)\n",
    "\n",
    "## Plot Error Over Iterations\n",
    "s1.PlotError()\n",
    "\n",
    "## Plot Function in Contour Form\n",
    "s1.PlotContour(xdomain=(-15, 15), ydomain=(-15, 15), contours=200)\n",
    "\n",
    "## Plot Function in 3D Form\n",
    "s1.Plot3D(xdomain=(-15, 15), ydomain=(-15, 15), alpha=0.8, contours=200)"
   ]
  },
  {
   "cell_type": "code",
   "execution_count": null,
   "id": "075755af",
   "metadata": {},
   "outputs": [],
   "source": [
    "s2 = SteepestDescent(f2, (\"x\", \"y\"))\n",
    "minima = s2.Minimize(x0=(1, 1), eps=1e-5, verbose=True)\n",
    "display(minima)\n",
    "\n",
    "## Plot Error Over Iterations\n",
    "s2.PlotError()\n",
    "\n",
    "## Plot Function in Contour Form\n",
    "s2.PlotContour(xdomain=(-3, 3), ydomain=(-3, 3), contours=200)\n",
    "\n",
    "## Plot Function in 3D Form\n",
    "s2.Plot3D(xdomain=(-3, 3), ydomain=(-3, 3), alpha=0.7, contours=200)"
   ]
  },
  {
   "cell_type": "code",
   "execution_count": null,
   "id": "e3693319",
   "metadata": {
    "scrolled": false
   },
   "outputs": [],
   "source": [
    "s3 = SteepestDescent(f3, f3_vars)\n",
    "minima = s3.Minimize(x0=[1 for _ in range(N_VARS)], eps=1e-3, verbose=True)\n",
    "display(minima)\n",
    "\n",
    "## Plot Error Over Iterations\n",
    "s3.PlotError()"
   ]
  },
  {
   "cell_type": "markdown",
   "id": "90845e4e",
   "metadata": {},
   "source": [
    "# Using Newton Method"
   ]
  },
  {
   "cell_type": "code",
   "execution_count": null,
   "id": "f3dc9c32",
   "metadata": {},
   "outputs": [],
   "source": [
    "s1 = NewtonND(f1, (\"x\", \"y\"))\n",
    "minima = s1.Minimize(x0=(10, 10), eps=1e-5, verbose=True)\n",
    "display(minima)\n",
    "\n",
    "## Plot Error Over Iterations\n",
    "s1.PlotError()\n",
    "\n",
    "## Plot Function in Contour Form\n",
    "s1.PlotContour(xdomain=(-15, 15), ydomain=(-15, 15), contours=200)\n",
    "\n",
    "## Plot Function in 3D Form\n",
    "s1.Plot3D(xdomain=(-15, 15), ydomain=(-15, 15), alpha=0.6, contours=200)"
   ]
  },
  {
   "cell_type": "code",
   "execution_count": null,
   "id": "06d863c6",
   "metadata": {},
   "outputs": [],
   "source": [
    "s2 = NewtonND(f2, (\"x\", \"y\"))\n",
    "minima = s2.Minimize(x0=(1, 1), eps=1e-2, verbose=True)\n",
    "display(minima)\n",
    "\n",
    "## Plot Error Over Iterations\n",
    "s2.PlotError()\n",
    "\n",
    "## Plot Function in Contour Form\n",
    "s2.PlotContour(xdomain=(-3, 3), ydomain=(-3, 3), contours=200)\n",
    "\n",
    "## Plot Function in 3D Form\n",
    "s2.Plot3D(xdomain=(-3, 3), ydomain=(-3, 3), alpha=0.7, contours=200)"
   ]
  },
  {
   "cell_type": "code",
   "execution_count": null,
   "id": "c62bfe13",
   "metadata": {},
   "outputs": [],
   "source": [
    "s3 = NewtonND(f3, f3_vars)\n",
    "minima = s3.Minimize(x0=[1 for _ in range(N_VARS)], eps=1e-3, verbose=True)\n",
    "display(minima)\n",
    "\n",
    "## Plot Error Over Iterations\n",
    "s3.PlotError()"
   ]
  }
 ],
 "metadata": {
  "kernelspec": {
   "display_name": "Python 3 (ipykernel)",
   "language": "python",
   "name": "python3"
  },
  "language_info": {
   "codemirror_mode": {
    "name": "ipython",
    "version": 3
   },
   "file_extension": ".py",
   "mimetype": "text/x-python",
   "name": "python",
   "nbconvert_exporter": "python",
   "pygments_lexer": "ipython3",
   "version": "3.9.12"
  }
 },
 "nbformat": 4,
 "nbformat_minor": 5
}
